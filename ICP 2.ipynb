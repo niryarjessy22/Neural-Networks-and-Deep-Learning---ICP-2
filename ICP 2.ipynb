{
 "cells": [
  {
   "cell_type": "markdown",
   "id": "b0de4bf5",
   "metadata": {},
   "source": [
    "ICP-2 Neural Networks & Deep Learning"
   ]
  },
  {
   "cell_type": "markdown",
   "id": "87b99b39",
   "metadata": {},
   "source": [
    "# Question 1"
   ]
  },
  {
   "cell_type": "markdown",
   "id": "438f822a",
   "metadata": {},
   "source": [
    "Write a program that takes two strings from the user: first_name, last_name.\n",
    "Pass these variables to fullname function that should return the (full name).\n",
    "\n",
    "Write function named “string_alternative” that returns every other char in the full_name string."
   ]
  },
  {
   "cell_type": "code",
   "execution_count": 6,
   "id": "c8bf43ef",
   "metadata": {},
   "outputs": [
    {
     "name": "stdout",
     "output_type": "stream",
     "text": [
      "nirmala\n",
      "yarlagadda\n",
      "nirmala yarlagadda\n"
     ]
    },
    {
     "data": {
      "text/plain": [
       "'nraayraad'"
      ]
     },
     "execution_count": 6,
     "metadata": {},
     "output_type": "execute_result"
    }
   ],
   "source": [
    "def string_alternative(var1):\n",
    "    return var1[::2]\n",
    "first_name = input() #Enter the first name\n",
    "last_name = input() #Enter the last name\n",
    "full_name=(first_name + \" \" + last_name)\n",
    "print(full_name)# printing the full name\n",
    "string_alternative(full_name)"
   ]
  },
  {
   "cell_type": "markdown",
   "id": "38f88871",
   "metadata": {},
   "source": [
    "# Question 2"
   ]
  },
  {
   "cell_type": "markdown",
   "id": "dd81d962",
   "metadata": {},
   "source": [
    "Write a python program to find the wordcount in a file (input.txt) for each line and then print the output.\n",
    "Finally store the output in output.txt file."
   ]
  },
  {
   "cell_type": "code",
   "execution_count": 1,
   "id": "000bc035",
   "metadata": {},
   "outputs": [
    {
     "name": "stdout",
     "output_type": "stream",
     "text": [
      "input 1\n",
      "a 1\n",
      "file 1\n",
      "includes 1\n",
      "two 1\n",
      "lines 1\n",
      "python 1\n",
      "course 2\n",
      "deep 1\n",
      "learning 1\n"
     ]
    }
   ],
   "source": [
    "import re\n",
    "count = {}\n",
    "read_text = open('input.txt', 'r')\n",
    "string_text = read_text.read().lower()\n",
    "pattern = re.findall(r'[a-z]{1,12}', string_text)\n",
    "for word in pattern:\n",
    "    count_words = count.get(word,0)\n",
    "    count[word] = count_words + 1\n",
    "    \n",
    "count_list = count.keys()\n",
    "for words in count_list:\n",
    "    print(words, count[words])"
   ]
  },
  {
   "cell_type": "markdown",
   "id": "1f275793",
   "metadata": {},
   "source": [
    "# Question 3"
   ]
  },
  {
   "cell_type": "markdown",
   "id": "9ea69f28",
   "metadata": {},
   "source": [
    "\n",
    "Write a program, which reads heights (inches.) customers into a list and convert these heights to centimeters in a separate list using:\n",
    "1) Nested Interactive loop.\n",
    "2) List comprehensions"
   ]
  },
  {
   "cell_type": "code",
   "execution_count": 5,
   "id": "276eb44b",
   "metadata": {},
   "outputs": [
    {
     "name": "stdout",
     "output_type": "stream",
     "text": [
      "Enter the height in inches:\n",
      "6,7,5\n",
      "Nested interactive loop\n",
      "[2.34, 2.73, 1.95]\n",
      "List comprehensions\n",
      "[2.34, 2.73, 1.95]\n"
     ]
    }
   ],
   "source": [
    "print(\"Enter the height in inches:\")\n",
    "heightinch_list = input()\n",
    "print(\"Nested interactive loop\")\n",
    "heightinch_list1 = heightinch_list[:]\n",
    "cm_list1 = []\n",
    "for height1 in heightinch_list1.split(','):\n",
    "    height1 = float(\"{:.2f}\".format(float(height1) * 0.39))\n",
    "    cm_list1.append(height1)\n",
    "print(cm_list1)\n",
    "\n",
    "print(\"List comprehensions\")\n",
    "heightinch_list2 = heightinch_list[:]\n",
    "cm_list2 = [float(\"{:.2f}\".format(float(height2) * 0.39)) for height2 in heightinch_list2.split(',')]\n",
    "print(cm_list2)"
   ]
  },
  {
   "cell_type": "code",
   "execution_count": null,
   "id": "4d165f5f",
   "metadata": {},
   "outputs": [],
   "source": []
  }
 ],
 "metadata": {
  "kernelspec": {
   "display_name": "Python 3 (ipykernel)",
   "language": "python",
   "name": "python3"
  },
  "language_info": {
   "codemirror_mode": {
    "name": "ipython",
    "version": 3
   },
   "file_extension": ".py",
   "mimetype": "text/x-python",
   "name": "python",
   "nbconvert_exporter": "python",
   "pygments_lexer": "ipython3",
   "version": "3.10.2"
  }
 },
 "nbformat": 4,
 "nbformat_minor": 5
}
